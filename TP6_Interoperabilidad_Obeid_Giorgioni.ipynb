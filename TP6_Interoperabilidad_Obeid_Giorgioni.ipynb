{
  "nbformat": 4,
  "nbformat_minor": 0,
  "metadata": {
    "colab": {
      "provenance": [],
      "include_colab_link": true
    },
    "kernelspec": {
      "name": "python3",
      "display_name": "Python 3"
    },
    "language_info": {
      "name": "python"
    }
  },
  "cells": [
    {
      "cell_type": "markdown",
      "metadata": {
        "id": "view-in-github",
        "colab_type": "text"
      },
      "source": [
        "<a href=\"https://colab.research.google.com/github/AsapMicky/TP6_Obeid_Giorgioni/blob/main/TP6_Interoperabilidad_Obeid_Giorgioni.ipynb\" target=\"_parent\"><img src=\"https://colab.research.google.com/assets/colab-badge.svg\" alt=\"Open In Colab\"/></a>"
      ]
    },
    {
      "cell_type": "code",
      "execution_count": null,
      "metadata": {
        "colab": {
          "base_uri": "https://localhost:8080/"
        },
        "id": "illVqNzTR3nr",
        "outputId": "3fbf7a52-95b5-4092-ce66-7eb37d7b7b57"
      },
      "outputs": [
        {
          "output_type": "stream",
          "name": "stdout",
          "text": [
            "Requirement already satisfied: fhir.resources in /usr/local/lib/python3.10/dist-packages (7.1.0)\n",
            "Requirement already satisfied: requests in /usr/local/lib/python3.10/dist-packages (2.32.3)\n",
            "Requirement already satisfied: pydantic<3.0,>=2.0.1 in /usr/local/lib/python3.10/dist-packages (from pydantic[email]<3.0,>=2.0.1->fhir.resources) (2.9.2)\n",
            "Requirement already satisfied: charset-normalizer<4,>=2 in /usr/local/lib/python3.10/dist-packages (from requests) (3.4.0)\n",
            "Requirement already satisfied: idna<4,>=2.5 in /usr/local/lib/python3.10/dist-packages (from requests) (3.10)\n",
            "Requirement already satisfied: urllib3<3,>=1.21.1 in /usr/local/lib/python3.10/dist-packages (from requests) (2.2.3)\n",
            "Requirement already satisfied: certifi>=2017.4.17 in /usr/local/lib/python3.10/dist-packages (from requests) (2024.8.30)\n",
            "Requirement already satisfied: annotated-types>=0.6.0 in /usr/local/lib/python3.10/dist-packages (from pydantic<3.0,>=2.0.1->pydantic[email]<3.0,>=2.0.1->fhir.resources) (0.7.0)\n",
            "Requirement already satisfied: pydantic-core==2.23.4 in /usr/local/lib/python3.10/dist-packages (from pydantic<3.0,>=2.0.1->pydantic[email]<3.0,>=2.0.1->fhir.resources) (2.23.4)\n",
            "Requirement already satisfied: typing-extensions>=4.6.1 in /usr/local/lib/python3.10/dist-packages (from pydantic<3.0,>=2.0.1->pydantic[email]<3.0,>=2.0.1->fhir.resources) (4.12.2)\n",
            "Requirement already satisfied: email-validator>=2.0.0 in /usr/local/lib/python3.10/dist-packages (from pydantic[email]<3.0,>=2.0.1->fhir.resources) (2.2.0)\n",
            "Requirement already satisfied: dnspython>=2.0.0 in /usr/local/lib/python3.10/dist-packages (from email-validator>=2.0.0->pydantic[email]<3.0,>=2.0.1->fhir.resources) (2.7.0)\n"
          ]
        }
      ],
      "source": [
        "!pip install fhir.resources requests\n",
        "\n",
        "from fhir.resources.patient import Patient\n",
        "from fhir.resources.humanname import HumanName\n",
        "from fhir.resources.contactpoint import ContactPoint\n",
        "from fhir.resources.identifier import Identifier\n",
        "import requests\n",
        "import json"
      ]
    },
    {
      "cell_type": "code",
      "source": [
        "def create_patient_resource(family_name=None, given_name=None, birth_date=None, gender=None, phone=None, document_id=None):\n",
        "    patient = Patient()\n",
        "\n",
        "    # Agregar el nombre del paciente si está disponible\n",
        "    if family_name or given_name:\n",
        "        name = HumanName()\n",
        "        if family_name:\n",
        "            name.family = family_name\n",
        "        if given_name:\n",
        "            name.given = [given_name]\n",
        "        patient.name = [name]\n",
        "\n",
        "    # Agregar la fecha de nacimiento si está disponible\n",
        "    if birth_date:\n",
        "        patient.birthDate = birth_date\n",
        "\n",
        "    # Agregar el género si está disponible\n",
        "    if gender:\n",
        "        patient.gender = gender\n",
        "\n",
        "    # Agregar información de contacto si está disponible\n",
        "    if phone:\n",
        "        contact = ContactPoint()\n",
        "        contact.system = \"phone\"\n",
        "        contact.value = phone\n",
        "        contact.use = \"mobile\"\n",
        "        patient.telecom = [contact]\n",
        "\n",
        "    # Agregar un identificador (número de documento)\n",
        "    if document_id:\n",
        "        identifier = Identifier()\n",
        "        identifier.system = \"http://example.org/document-id\"\n",
        "        identifier.value = document_id\n",
        "        patient.identifier = [identifier]\n",
        "\n",
        "    return patient\n"
      ],
      "metadata": {
        "id": "BAhX44CJTT2I"
      },
      "execution_count": null,
      "outputs": []
    },
    {
      "cell_type": "code",
      "source": [
        "patient = create_patient_resource(family_name=\"Obeid\",given_name=\"Miguel\",birth_date=\"2001-11-14\",gender=\"male\",phone=\"123-456-7890\",document_id=\"42356789\")"
      ],
      "metadata": {
        "id": "ZD1wyjVeTt9n"
      },
      "execution_count": null,
      "outputs": []
    },
    {
      "cell_type": "code",
      "source": [
        "def send_resource_to_hapi_fhir(resource,resource_type):\n",
        "    url = f\"http://hapi.fhir.org/baseR4/{resource_type}\"\n",
        "    headers = {\"Content-Type\": \"application/fhir+json\"}\n",
        "    resource_json = resource.json()\n",
        "\n",
        "    response = requests.post(url, headers=headers, data=resource_json)\n",
        "\n",
        "    if response.status_code == 201:\n",
        "        print(\"Recurso creado exitosamente\")\n",
        "\n",
        "        # Devolver el ID del recurso creado\n",
        "        return response.json()['id']\n",
        "    else:\n",
        "        print(f\"Error al crear el recurso: {response.status_code}\")\n",
        "        print(response.json())\n",
        "        return None"
      ],
      "metadata": {
        "id": "ecJbzfEUT-J5"
      },
      "execution_count": null,
      "outputs": []
    },
    {
      "cell_type": "code",
      "source": [
        "def get_resource_from_hapi_fhir(resource_id, resource_type):\n",
        "    url = f\"http://hapi.fhir.org/baseR4/{resource_type}/{resource_id}\"\n",
        "    response = requests.get(url, headers={\"Accept\": \"application/fhir+json\"})\n",
        "\n",
        "    if response.status_code == 200:\n",
        "        resource = response.json()\n",
        "        print(resource)\n",
        "    else:\n",
        "        print(f\"Error al obtener el recurso: {response.status_code}\")\n",
        "        print(response.json())"
      ],
      "metadata": {
        "id": "SzaTTeV3UBxf"
      },
      "execution_count": null,
      "outputs": []
    },
    {
      "cell_type": "code",
      "source": [
        "patient_id = send_resource_to_hapi_fhir(patient, \"Patient\")\n",
        "print(f\"ID del paciente creado: {patient_id}\")"
      ],
      "metadata": {
        "colab": {
          "base_uri": "https://localhost:8080/"
        },
        "id": "H0edqdNIU-KA",
        "outputId": "f51140d2-1fe5-480c-aedc-b3434b5c68f8"
      },
      "execution_count": null,
      "outputs": [
        {
          "output_type": "stream",
          "name": "stdout",
          "text": [
            "Recurso creado exitosamente\n",
            "ID del paciente creado: 45194311\n"
          ]
        }
      ]
    },
    {
      "cell_type": "code",
      "source": [
        "if patient_id:\n",
        "    print(f\"Obteniendo el paciente con ID: {patient_id}\")\n",
        "    get_resource_from_hapi_fhir(patient_id, \"Patient\")"
      ],
      "metadata": {
        "id": "dC3x7lYdVjKK",
        "outputId": "65b1806a-12f6-492a-ab61-51ee45ed4329",
        "colab": {
          "base_uri": "https://localhost:8080/"
        }
      },
      "execution_count": null,
      "outputs": [
        {
          "output_type": "stream",
          "name": "stdout",
          "text": [
            "Obteniendo el paciente con ID: 45194311\n",
            "{'resourceType': 'Patient', 'id': '45194311', 'meta': {'versionId': '1', 'lastUpdated': '2024-11-20T02:10:33.594+00:00', 'source': '#aYsKQt485I6PhbzD'}, 'text': {'status': 'generated', 'div': '<div xmlns=\"http://www.w3.org/1999/xhtml\"><div class=\"hapiHeaderText\">Miguel <b>OBEID </b></div><table class=\"hapiPropertyTable\"><tbody><tr><td>Identifier</td><td>42356789</td></tr><tr><td>Date of birth</td><td><span>14 November 2001</span></td></tr></tbody></table></div>'}, 'identifier': [{'system': 'http://example.org/document-id', 'value': '42356789'}], 'name': [{'family': 'Obeid', 'given': ['Miguel']}], 'telecom': [{'system': 'phone', 'value': '123-456-7890', 'use': 'mobile'}], 'gender': 'male', 'birthDate': '2001-11-14'}\n"
          ]
        }
      ]
    },
    {
      "cell_type": "code",
      "source": [
        "def search_patient_by_document(document_id, fhir_server_url):\n",
        "    \"\"\"\n",
        "    Busca un paciente en el servidor HAPI FHIR por número de documento.\n",
        "    :param document_id: Número de documento del paciente.\n",
        "    :param fhir_server_url: URL base del servidor HAPI FHIR.\n",
        "    \"\"\"\n",
        "    # Construir la URL de búsqueda\n",
        "    search_url = f\"{fhir_server_url}/Patient?identifier={document_id}\"\n",
        "\n",
        "    # Enviar solicitud GET al servidor\n",
        "    response = requests.get(search_url, headers={\"Accept\": \"application/fhir+json\"})\n",
        "\n",
        "    # Procesar la respuesta\n",
        "    if response.status_code == 200:\n",
        "        results = response.json()\n",
        "        if \"entry\" in results:\n",
        "            print(f\"Se encontraron {len(results['entry'])} paciente(s) con el documento {document_id}:\")\n",
        "            for entry in results[\"entry\"]:\n",
        "                resource = entry[\"resource\"]\n",
        "                print(f\"- ID: {resource['id']}, Nombre: {resource['name'][0]['given'][0]} {resource['name'][0]['family']}\")\n",
        "            return results\n",
        "        else:\n",
        "            print(f\"No se encontraron pacientes con el documento {document_id}.\")\n",
        "            return None\n",
        "    else:\n",
        "        print(f\"Error al buscar el paciente: {response.status_code}\")\n",
        "        print(response.text)\n",
        "        return None\n"
      ],
      "metadata": {
        "id": "KTc2pv1BWbff"
      },
      "execution_count": null,
      "outputs": []
    },
    {
      "cell_type": "code",
      "source": [
        "FHIR_SERVER_URL = \"http://hapi.fhir.org/baseR4\"\n",
        "search_patient_by_document(42356789, FHIR_SERVER_URL)"
      ],
      "metadata": {
        "colab": {
          "base_uri": "https://localhost:8080/"
        },
        "id": "MNxnwd0WWinv",
        "outputId": "bb74d04b-d64c-44e4-ea37-75f32bcbf83b"
      },
      "execution_count": null,
      "outputs": [
        {
          "output_type": "stream",
          "name": "stdout",
          "text": [
            "Se encontraron 1 paciente(s) con el documento 42356789:\n",
            "- ID: 45194311, Nombre: Miguel Obeid\n"
          ]
        },
        {
          "output_type": "execute_result",
          "data": {
            "text/plain": [
              "{'resourceType': 'Bundle',\n",
              " 'id': 'a1717112-7051-4563-933a-5a45a7208cc6',\n",
              " 'meta': {'lastUpdated': '2024-11-20T02:17:44.326+00:00'},\n",
              " 'type': 'searchset',\n",
              " 'total': 1,\n",
              " 'link': [{'relation': 'self',\n",
              "   'url': 'https://hapi.fhir.org/baseR4/Patient?identifier=42356789'}],\n",
              " 'entry': [{'fullUrl': 'https://hapi.fhir.org/baseR4/Patient/45194311',\n",
              "   'resource': {'resourceType': 'Patient',\n",
              "    'id': '45194311',\n",
              "    'meta': {'versionId': '1',\n",
              "     'lastUpdated': '2024-11-20T02:10:33.594+00:00',\n",
              "     'source': '#aYsKQt485I6PhbzD'},\n",
              "    'text': {'status': 'generated',\n",
              "     'div': '<div xmlns=\"http://www.w3.org/1999/xhtml\"><div class=\"hapiHeaderText\">Miguel <b>OBEID </b></div><table class=\"hapiPropertyTable\"><tbody><tr><td>Identifier</td><td>42356789</td></tr><tr><td>Date of birth</td><td><span>14 November 2001</span></td></tr></tbody></table></div>'},\n",
              "    'identifier': [{'system': 'http://example.org/document-id',\n",
              "      'value': '42356789'}],\n",
              "    'name': [{'family': 'Obeid', 'given': ['Miguel']}],\n",
              "    'telecom': [{'system': 'phone', 'value': '123-456-7890', 'use': 'mobile'}],\n",
              "    'gender': 'male',\n",
              "    'birthDate': '2001-11-14'},\n",
              "   'search': {'mode': 'match'}}]}"
            ]
          },
          "metadata": {},
          "execution_count": 16
        }
      ]
    },
    {
      "cell_type": "code",
      "source": [],
      "metadata": {
        "id": "2XWVtsHjdrhP"
      },
      "execution_count": null,
      "outputs": []
    },
 "#El recurso Device hace referencia a un dispositivo médico utilizado en el ámbito de la atención de salud. Este recurso describe dispositivos que pueden ser utilizados para diagnóstico, tratamiento, monitorización o prevención de enfermedades, así como para la recolección de datos relacionados con el cuidado de la salud.#
    {
      "cell_type": "code",
      "source": [
        "from fhir.resources.device import Device\n",
        "from fhir.resources.backboneelement import BackboneElement\n",
        "\n",
        "# Crear el recurso FHIR de Device con parámetros opcionales\n",
        "def create_device_resource(\n",
        "    identifier=None,\n",
        "    status=None,\n",
        "    manufacturer=None,\n",
        "    model=None,\n",
        "    device_name_value=None,\n",
        "    device_name_type=None,\n",
        "    device_name_display=None,\n",
        "    owner_reference=None\n",
        "):\n",
        "    device = Device()\n",
        "\n",
        "    # Agregar identificador único del dispositivo\n",
        "    if identifier:\n",
        "        device.identifier = [{\n",
        "            \"value\": identifier\n",
        "        }]\n",
        "\n",
        "    # Agregar el estado del dispositivo (activo o inactivo)\n",
        "    if status:\n",
        "        device.status = status\n",
        "\n",
        "    # Agregar el fabricante del dispositivo\n",
        "    if manufacturer:\n",
        "        device.manufacturer = manufacturer\n",
        "\n",
        "    # Agregar el modelo del dispositivo\n",
        "    if model:\n",
        "        device.modelNumber = model\n",
        "\n",
        "    # Agregar el nombre del dispositivo\n",
        "    if device_name_value:\n",
        "        device.name = [{\n",
        "            \"value\": device_name_value, #nombre que se muestra\n",
        "            \"type\": device_name_type or \"user-friendly-name\", #se usa para indicar el contexto del nombre elegido, en este caso es un nombre amigable para el usuario.\n",
        "            \"display\": device_name_display or False #el que se muestra\n",
        "        }]\n",
        "\n",
        "    # Agregar el propietario del dispositivo\n",
        "    if owner_reference:\n",
        "        device.owner = {\n",
        "            \"reference\": owner_reference\n",
        "        }\n",
        "\n",
        "    return device\n",
        "\n",
        "\n"
      ],
      "metadata": {
        "id": "clxg-CNb7It9"
      },
      "execution_count": null,
      "outputs": []
    },
    {
      "cell_type": "code",
      "source": [
        "# Crear un dispositivo Marcapasos\n",
        "device = create_device_resource(\n",
        "    identifier=\"SN235687987\",\n",
        "    status=\"active\",\n",
        "    manufacturer=\"Medtronic\",\n",
        "    model=\"W1DR01\", #Azure™ pacemaker    https://www.medtronic.com/en-us/l/patients/treatments-therapies/pacemakers/our.html\n",
        "    device_name_value=\"Marcapasos cardíaco\",\n",
        "    device_name_type=\"user-friendly-name\",\n",
        "    device_name_display=True,\n",
        "    owner_reference=\"Organization/org1\"  #si queremos poner un hospital tenemos que registrar la institución en un recurso organization.\n",
        ")\n",
        "\n",
        "# Mostrar el recurso en formato JSON\n",
        "print(device.json(indent=4))\n",
        "\n"
      ],
      "metadata": {
        "colab": {
          "base_uri": "https://localhost:8080/"
        },
        "id": "XAgEv36-8Qln",
        "outputId": "bad4e149-7b78-44d9-e090-cc7955f64763"
      },
      "execution_count": null,
      "outputs": [
        {
          "output_type": "stream",
          "name": "stdout",
          "text": [
            "{\n",
            "  \"resourceType\": \"Device\",\n",
            "  \"identifier\": [\n",
            "    {\n",
            "      \"value\": \"SN235687987\"\n",
            "    }\n",
            "  ],\n",
            "  \"status\": \"active\",\n",
            "  \"manufacturer\": \"Medtronic\",\n",
            "  \"name\": [\n",
            "    {\n",
            "      \"value\": \"Marcapasos cardíaco\",\n",
            "      \"type\": \"user-friendly-name\",\n",
            "      \"display\": true\n",
            "    }\n",
            "  ],\n",
            "  \"modelNumber\": \"W1DR01\",\n",
            "  \"owner\": {\n",
            "    \"reference\": \"Organization/org1\"\n",
            "  }\n",
            "}\n"
          ]
        }
      ]
    },
    {
      "cell_type": "code",
      "source": [
        "device_id = send_resource_to_hapi_fhir(device, \"Device\")\n",
        "print(f\"ID del dispositivo creado: {device_id}\")"
      ],
      "metadata": {
        "colab": {
          "base_uri": "https://localhost:8080/"
        },
        "id": "MzHYy0u3-iKV",
        "outputId": "84f39b40-9496-40ed-d895-899f1afef535"
      },
      "execution_count": null,
      "outputs": [
        {
          "output_type": "stream",
          "name": "stdout",
          "text": [
            "Recurso creado exitosamente\n",
            "ID del dispositivo creado: 45201582\n"
          ]
        }
      ]
    },
    {
      "cell_type": "code",
      "source": [
        "if device_id:\n",
        "    get_resource_from_hapi_fhir(device_id, \"Device\")"
      ],
      "metadata": {
        "colab": {
          "base_uri": "https://localhost:8080/"
        },
        "id": "Lv-wleRG-541",
        "outputId": "8198ae31-d35c-427a-c749-dc1311a97d05"
      },
      "execution_count": null,
      "outputs": [
        {
          "output_type": "stream",
          "name": "stdout",
          "text": [
            "{'resourceType': 'Device', 'id': '45201582', 'meta': {'versionId': '1', 'lastUpdated': '2024-11-20T15:04:01.418+00:00', 'source': '#jrtvSBuVX2ko1v6Z'}, 'identifier': [{'value': 'SN235687987'}], 'status': 'active', 'manufacturer': 'Medtronic', 'modelNumber': 'W1DR01', 'owner': {'reference': 'Organization/org1'}}\n"
          ]
        }
      ]
    }
  ]
}
